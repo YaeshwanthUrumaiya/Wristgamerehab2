{
 "cells": [
  {
   "cell_type": "code",
   "execution_count": 1,
   "metadata": {},
   "outputs": [
    {
     "name": "stdout",
     "output_type": "stream",
     "text": [
      "hello, world\n"
     ]
    }
   ],
   "source": [
    "print('hello, world')"
   ]
  },
  {
   "cell_type": "code",
   "execution_count": 1,
   "metadata": {},
   "outputs": [],
   "source": [
    "#This is for figuring out the angle and sending it to unity\n",
    "import cv2\n",
    "import mediapipe as mp\n",
    "import numpy as np\n",
    "import socket\n",
    "\n",
    "port = 690\n",
    "sock = socket.socket(socket.AF_INET,socket.SOCK_DGRAM) \n",
    "serverAddressPort = (\"127.0.0.1\",port) \n",
    "\n",
    "def calculate_angle(A, B, C):\n",
    "    # Form vectors AB and BC\n",
    "    AB = np.array(B) - np.array(A)\n",
    "    BC = np.array(C) - np.array(B)\n",
    "    \n",
    "    # Normalize vectors\n",
    "    AB_norm = AB / np.linalg.norm(AB)\n",
    "    BC_norm = BC / np.linalg.norm(BC)\n",
    "    \n",
    "    # Calculate cosine of the angle\n",
    "    cos_angle = np.dot(AB_norm, BC_norm)\n",
    "    \n",
    "    # Convert cosine to angle in radians\n",
    "    angle_rad = np.arccos(cos_angle)\n",
    "    \n",
    "    # Convert angle to degrees\n",
    "    angle_deg = np.degrees(angle_rad)\n",
    "    \n",
    "    return angle_deg\n",
    "\n",
    "mp_hands = mp.solutions.hands\n",
    "# hands = mp_hands.Hands(min_detection_confidence=0.5, min_tracking_confidence=0.5)\n",
    "hands = mp_hands.Hands()\n",
    "mp_draw = mp.solutions.drawing_utils\n",
    "\n",
    "drawingModule = mp.solutions.drawing_utils\n",
    "\n",
    "cameraCapture = cv2.VideoCapture(0)\n",
    "cv2.namedWindow('Camera Feed')\n",
    "\n",
    "try:\n",
    "    while True:\n",
    "        success, frame = cameraCapture.read()\n",
    "        if not success:\n",
    "            break\n",
    "        \n",
    "        rgbImage = cv2.cvtColor(frame, cv2.COLOR_BGR2RGB)\n",
    "        results = hands.process(rgbImage)\n",
    "        # print(results.multi_hand_landmarks)\n",
    "        \n",
    "        if results.multi_hand_landmarks:\n",
    "            for handLms in results.multi_hand_landmarks:       \n",
    "                mp_draw.draw_landmarks(frame, handLms, mp_hands.HAND_CONNECTIONS)\n",
    "                \n",
    "                startpoint = (handLms.landmark[0].x * frame.shape[1], handLms.landmark[0].y * frame.shape[0])\n",
    "                endpoint = (handLms.landmark[9].x * frame.shape[1], handLms.landmark[9].y * frame.shape[0])\n",
    "                new_point = (int(startpoint[0]), int((startpoint[1]) - 50))\n",
    "                cv2.circle(frame, new_point, radius=5, color=(255, 0, 0), thickness=-1)\n",
    "\n",
    "                angle = calculate_angle(startpoint, new_point, endpoint)\n",
    "                \n",
    "                if startpoint[0] < endpoint[0]:\n",
    "                    angle = angle * (-1)\n",
    "                sock.sendto(str.encode(str(angle)),serverAddressPort)\n",
    "                # print(f\"The angle between AB and BC is {angle} degrees.\")\n",
    "                \n",
    "        \n",
    "        cv2.imshow('Camera Feed', frame)\n",
    "        if cv2.waitKey(1) & 0xFF == ord('q'):\n",
    "            break\n",
    "finally:\n",
    "    cameraCapture.release()\n",
    "    cv2.destroyAllWindows()"
   ]
  },
  {
   "cell_type": "markdown",
   "metadata": {},
   "source": [
    "Using left hand (but can use any hand)"
   ]
  }
 ],
 "metadata": {
  "kernelspec": {
   "display_name": "CV",
   "language": "python",
   "name": "python3"
  },
  "language_info": {
   "codemirror_mode": {
    "name": "ipython",
    "version": 3
   },
   "file_extension": ".py",
   "mimetype": "text/x-python",
   "name": "python",
   "nbconvert_exporter": "python",
   "pygments_lexer": "ipython3",
   "version": "3.8.19"
  }
 },
 "nbformat": 4,
 "nbformat_minor": 2
}
